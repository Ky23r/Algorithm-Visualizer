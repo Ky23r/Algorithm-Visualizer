{
 "cells": [
  {
   "cell_type": "markdown",
   "metadata": {},
   "source": [
    "# KMeans Visualization"
   ]
  },
  {
   "cell_type": "code",
   "execution_count": 1,
   "metadata": {},
   "outputs": [
    {
     "name": "stdout",
     "output_type": "stream",
     "text": [
      "pygame 2.6.0 (SDL 2.28.4, Python 3.12.4)\n",
      "Hello from the pygame community. https://www.pygame.org/contribute.html\n"
     ]
    }
   ],
   "source": [
    "import pygame\n",
    "from sklearn.cluster import KMeans\n",
    "from math import sqrt\n",
    "from random import randint"
   ]
  },
  {
   "cell_type": "code",
   "execution_count": 2,
   "metadata": {},
   "outputs": [],
   "source": [
    "def distance(x, y):\n",
    "    return sqrt((x[0] - y[0]) ** 2 + (x[1] - y[1]) ** 2)"
   ]
  },
  {
   "cell_type": "code",
   "execution_count": 3,
   "metadata": {},
   "outputs": [
    {
     "data": {
      "text/plain": [
       "(5, 0)"
      ]
     },
     "execution_count": 3,
     "metadata": {},
     "output_type": "execute_result"
    }
   ],
   "source": [
    "pygame.init()"
   ]
  },
  {
   "cell_type": "code",
   "execution_count": 4,
   "metadata": {},
   "outputs": [],
   "source": [
    "pygame.display.set_caption(\"KMeans Visualization\")\n",
    "screen = pygame.display.set_mode((1200, 700))"
   ]
  },
  {
   "cell_type": "code",
   "execution_count": 5,
   "metadata": {},
   "outputs": [],
   "source": [
    "BACKGROUND = (126, 45, 140)\n",
    "BLACK = (0, 0, 0)\n",
    "WHITE = (255, 255, 255)\n",
    "LIGHT_GREY = (219, 219, 219)\n",
    "YELLOW = (255, 255, 0)\n",
    "RED = (255, 0, 0)\n",
    "GREEN = (0, 255, 0)\n",
    "BLUE = (0, 0, 255)\n",
    "PURPLE = (255, 0, 255)\n",
    "SKY = (0, 255, 255)\n",
    "ORANGE = (255, 125, 25)\n",
    "GRAPE = (100, 25, 125)\n",
    "GRASS = (55, 155, 65)\n",
    "\n",
    "colors = [YELLOW, RED, GREEN, BLUE, PURPLE, SKY, ORANGE, GRAPE, GRASS]"
   ]
  },
  {
   "cell_type": "code",
   "execution_count": 6,
   "metadata": {},
   "outputs": [],
   "source": [
    "def create_text_render(x, size=50, color=WHITE):\n",
    "    font = pygame.font.SysFont(\"sans\", size)\n",
    "    return font.render(x, True, color)"
   ]
  },
  {
   "cell_type": "code",
   "execution_count": 7,
   "metadata": {},
   "outputs": [],
   "source": [
    "K = 0\n",
    "points = []\n",
    "clusters = []\n",
    "labels = []\n",
    "error = 0"
   ]
  },
  {
   "cell_type": "code",
   "execution_count": 8,
   "metadata": {},
   "outputs": [],
   "source": [
    "def draw_interface(mouse_x, mouse_y):\n",
    "    screen.blit(create_text_render(\"O\"), (8, 1))\n",
    "    screen.blit(create_text_render(\"x\"), (790, 0))\n",
    "    screen.blit(create_text_render(\"y\"), (10, 560))\n",
    "\n",
    "    pygame.draw.rect(screen, BLACK, (45, 45, 725, 5))\n",
    "    pygame.draw.polygon(screen, BLACK, [(780, 47), (770, 40), (770, 55)])\n",
    "    pygame.draw.rect(screen, BLACK, (45, 45, 5, 525))\n",
    "    pygame.draw.polygon(screen, BLACK, [(47, 580), (40, 570), (55, 570)])\n",
    "    pygame.draw.rect(screen, LIGHT_GREY, (50, 50, 700, 500))\n",
    "\n",
    "    pygame.draw.rect(screen, BLACK, (850, 50, 50, 50))\n",
    "    screen.blit(create_text_render(\"+\"), (863, 45))\n",
    "\n",
    "    pygame.draw.rect(screen, BLACK, (950, 50, 50, 50))\n",
    "    screen.blit(create_text_render(\"-\"), (968, 42))\n",
    "\n",
    "    screen.blit(create_text_render(\"K = \" + str(K)), (1050, 45))\n",
    "\n",
    "    pygame.draw.rect(screen, BLACK, (850, 125, 150, 50))\n",
    "    screen.blit(create_text_render(\"RUN\"), (882, 120))\n",
    "\n",
    "    pygame.draw.rect(screen, BLACK, (850, 200, 150, 50))\n",
    "    screen.blit(create_text_render(\"RND\"), (882, 195))\n",
    "\n",
    "    pygame.draw.rect(screen, BLACK, (850, 275, 150, 50))\n",
    "    screen.blit(create_text_render(\"ALGO\"), (869, 270))\n",
    "\n",
    "    pygame.draw.rect(screen, BLACK, (850, 350, 150, 50))\n",
    "    screen.blit(create_text_render(\"RESET\"), (857, 345))\n",
    "\n",
    "    if 50 < mouse_x < 750 and 50 < mouse_y < 550:\n",
    "        screen.blit(\n",
    "            create_text_render(\n",
    "                \"(\" + str(mouse_x - 50) + \", \" + str(mouse_y - 50) + \")\", 20, BLACK\n",
    "            ),\n",
    "            (mouse_x + 20, mouse_y + 20),\n",
    "        )\n",
    "\n",
    "    if 850 < mouse_x < 1000 and 275 < mouse_y < 325:\n",
    "        screen.blit(\n",
    "            create_text_render(\"Using Kmeans provided by scikit-learn\", 20, YELLOW),\n",
    "            (785, 250),\n",
    "        )"
   ]
  },
  {
   "cell_type": "code",
   "execution_count": 9,
   "metadata": {},
   "outputs": [],
   "source": [
    "running = True\n",
    "\n",
    "while running == True:\n",
    "    pygame.time.Clock().tick(60)\n",
    "    screen.fill(BACKGROUND)\n",
    "\n",
    "    mouse_x, mouse_y = pygame.mouse.get_pos()\n",
    "\n",
    "    draw_interface(mouse_x, mouse_y)\n",
    "\n",
    "    for event in pygame.event.get():\n",
    "        if event.type == pygame.QUIT:\n",
    "            running = False\n",
    "\n",
    "        if event.type == pygame.MOUSEBUTTONDOWN:\n",
    "            if 50 < mouse_x < 750 and 50 < mouse_y < 550:\n",
    "                labels = []\n",
    "                point = [mouse_x - 50, mouse_y - 50]\n",
    "                points.append(point)\n",
    "\n",
    "            if 850 < mouse_x < 900 and 50 < mouse_y < 100:\n",
    "                if K < 9:\n",
    "                    K += 1\n",
    "\n",
    "            if 950 < mouse_x < 1000 and 50 < mouse_y < 100:\n",
    "                if K > 0:\n",
    "                    K -= 1\n",
    "\n",
    "            if 850 < mouse_x < 1000 and 125 < mouse_y < 175:\n",
    "                labels = []\n",
    "                distances_to_cluster = []\n",
    "\n",
    "                if clusters == []:\n",
    "                    continue\n",
    "\n",
    "                for p in points:\n",
    "                    for c in clusters:\n",
    "                        dis = distance(p, c)\n",
    "                        distances_to_cluster.append(dis)\n",
    "\n",
    "                    min_dis = min(distances_to_cluster)\n",
    "                    label = distances_to_cluster.index(min_dis)\n",
    "                    labels.append(label)\n",
    "                    distances_to_cluster.clear()\n",
    "\n",
    "                for i in range(K):\n",
    "                    sum_i, sum_j, cnt = 0, 0, 0\n",
    "                    for j in range(len(points)):\n",
    "                        if labels[j] == i:\n",
    "                            sum_i += points[j][0]\n",
    "                            sum_j += points[j][1]\n",
    "                            cnt += 1\n",
    "                    if cnt != 0:\n",
    "                        new_cluster_i, new_cluster_j = sum_i / cnt, sum_j / cnt\n",
    "                        clusters[i] = [new_cluster_i, new_cluster_j]\n",
    "\n",
    "            if 850 < mouse_x < 1000 and 200 < mouse_y < 250:\n",
    "                clusters = []\n",
    "                for i in range(K):\n",
    "                    random_cluster_point = [randint(10, 690), randint(10, 490)]\n",
    "                    clusters.append(random_cluster_point)\n",
    "\n",
    "            if 850 < mouse_x < 1000 and 275 < mouse_y < 325:\n",
    "                if K > 0:\n",
    "                    kmeans = KMeans(n_clusters=K).fit(points)\n",
    "                    clusters = list(kmeans.cluster_centers_)\n",
    "                    labels = list(kmeans.labels_)\n",
    "\n",
    "            if 850 < mouse_x < 1000 and 350 < mouse_y < 400:\n",
    "                K = 0\n",
    "                points = []\n",
    "                clusters = []\n",
    "                labels = []\n",
    "                error = 0\n",
    "\n",
    "    for i in range(len(clusters)):\n",
    "        pygame.draw.circle(\n",
    "            screen, colors[i], (int(clusters[i][0]) + 50, int(clusters[i][1]) + 50), 10\n",
    "        )\n",
    "\n",
    "    for i in range(len(points)):\n",
    "        pygame.draw.circle(screen, BLACK, (points[i][0] + 50, points[i][1] + 50), 6)\n",
    "        if labels == []:\n",
    "            pygame.draw.circle(screen, WHITE, (points[i][0] + 50, points[i][1] + 50), 5)\n",
    "        else:\n",
    "            pygame.draw.circle(\n",
    "                screen, colors[labels[i]], (points[i][0] + 50, points[i][1] + 50), 5\n",
    "            )\n",
    "\n",
    "    error = 0\n",
    "    if len(clusters) > 0 and len(labels) > 0:\n",
    "        for i in range(len(points)):\n",
    "            error += distance(points[i], clusters[labels[i]])\n",
    "\n",
    "    screen.blit(create_text_render(\"ERROR = \" + str(int(error))), (800, 450))\n",
    "\n",
    "    pygame.display.flip()"
   ]
  },
  {
   "cell_type": "code",
   "execution_count": 10,
   "metadata": {},
   "outputs": [],
   "source": [
    "pygame.quit()"
   ]
  }
 ],
 "metadata": {
  "kernelspec": {
   "display_name": "Python 3",
   "language": "python",
   "name": "python3"
  },
  "language_info": {
   "codemirror_mode": {
    "name": "ipython",
    "version": 3
   },
   "file_extension": ".py",
   "mimetype": "text/x-python",
   "name": "python",
   "nbconvert_exporter": "python",
   "pygments_lexer": "ipython3",
   "version": "3.12.4"
  }
 },
 "nbformat": 4,
 "nbformat_minor": 2
}
